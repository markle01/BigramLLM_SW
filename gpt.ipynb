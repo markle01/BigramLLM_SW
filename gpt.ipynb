{
 "cells": [
  {
   "cell_type": "markdown",
   "metadata": {},
   "source": [
    "### Import Library"
   ]
  },
  {
   "cell_type": "code",
   "execution_count": 1,
   "metadata": {},
   "outputs": [],
   "source": [
    "import pandas as pd\n",
    "import torch"
   ]
  },
  {
   "cell_type": "markdown",
   "metadata": {},
   "source": [
    "### Input Dataset:\n",
    "\n",
    "Ep5: https://www.kaggle.com/datasets/xvivancos/star-wars-movie-scripts?resource=download&select=SW_EpisodeV.txt"
   ]
  },
  {
   "cell_type": "markdown",
   "metadata": {},
   "source": [
    "### Data Inspection"
   ]
  },
  {
   "cell_type": "code",
   "execution_count": 2,
   "metadata": {},
   "outputs": [],
   "source": [
    "# read it in to inspect it\n",
    "with open('SW_EpisodeV.txt', 'r', encoding='utf-8') as f:\n",
    "    text = f.read()"
   ]
  },
  {
   "cell_type": "code",
   "execution_count": 3,
   "metadata": {},
   "outputs": [
    {
     "name": "stdout",
     "output_type": "stream",
     "text": [
      "length of dataset in characters:  48009\n"
     ]
    }
   ],
   "source": [
    "print(\"length of dataset in characters: \", len(text))"
   ]
  },
  {
   "cell_type": "code",
   "execution_count": 4,
   "metadata": {},
   "outputs": [
    {
     "name": "stdout",
     "output_type": "stream",
     "text": [
      "LUKE: Echo Three to Echo Seven. Han, old buddy, do you read me?\n",
      "HAN: Loud and clear, kid. What's up?\n",
      "LUKE: Well, I finished my circle. I don't pick up any life readings.\n",
      "HAN: There isn't enough life on this ice cube to fill a space cruiser. The sensors are placed. I'm going back.\n",
      "LUKE: Right. I'll see you shortly. There's a meteorite that hit the ground near here. I want to check it out. It won't take long.\n",
      "LUKE: Hey, steady girl. What's the matter? You smell something?\n",
      "LUKE: Aaargh!\n",
      "HAN: Chewie!\n",
      "HAN: All right, don't lose your temper. I'll come right back and give  you a hand.\n",
      "RIEEKAN: Solo?\n",
      "HAN: No sign of life out there, General. The sensors are in place. You'll know if anything comes around.\n",
      "RIEEKAN: Commander Skywalker reported in yet?\n",
      "HAN: No. He's checking out a meteorite that hit near him.\n",
      "RIEEKAN: With all the meteor activity in this  system, it's going to be difficult to spot approaching ships.\n",
      "HAN: General, I've got to leave. I can't stay anymore.\n",
      "RIEEKAN: I'm sorry to hear \n"
     ]
    }
   ],
   "source": [
    "print(text[:1000])"
   ]
  },
  {
   "cell_type": "code",
   "execution_count": 5,
   "metadata": {},
   "outputs": [
    {
     "name": "stdout",
     "output_type": "stream",
     "text": [
      "\n",
      " !\"',-.2:;?ABCDEFGHIJKLMNOPQRSTUVWXYZabcdefghijklmnopqrstuvwxyz\n",
      "64\n"
     ]
    }
   ],
   "source": [
    "# here are all the unique characters that occur in this text\n",
    "chars = sorted(list(set(text)))\n",
    "vocab_size = len(chars)\n",
    "print(''.join(chars))\n",
    "print(vocab_size)"
   ]
  },
  {
   "cell_type": "code",
   "execution_count": 6,
   "metadata": {},
   "outputs": [
    {
     "name": "stdout",
     "output_type": "stream",
     "text": [
      "[45, 46, 46, 1, 57, 45, 42, 55, 42]\n",
      "hii there\n"
     ]
    }
   ],
   "source": [
    "# # create a mapping from characters to integers\n",
    "stoi = { ch:i for i,ch in enumerate(chars) }\n",
    "itos = { i:ch for i,ch in enumerate(chars) }\n",
    "encode = lambda s: [stoi[c] for c in s] # encoder: take a string, output a list of integers\n",
    "decode = lambda l: ''.join([itos[i] for i in l]) # decoder: take a list of integers, output a string\n",
    "\n",
    "print(encode(\"hii there\"))\n",
    "print(decode(encode(\"hii there\")))"
   ]
  },
  {
   "cell_type": "code",
   "execution_count": 7,
   "metadata": {},
   "outputs": [
    {
     "name": "stdout",
     "output_type": "stream",
     "text": [
      "torch.Size([48009]) torch.int64\n",
      "tensor([23, 32, 22, 16,  9,  1, 16, 40, 45, 52,  1, 31, 45, 55, 42, 42,  1, 57,\n",
      "        52,  1, 16, 40, 45, 52,  1, 30, 42, 59, 42, 51,  7,  1, 19, 38, 51,  5,\n",
      "         1, 52, 49, 41,  1, 39, 58, 41, 41, 62,  5,  1, 41, 52,  1, 62, 52, 58,\n",
      "         1, 55, 42, 38, 41,  1, 50, 42, 11,  0, 19, 12, 25,  9,  1, 23, 52, 58,\n",
      "        41,  1, 38, 51, 41,  1, 40, 49, 42, 38, 55,  5,  1, 48, 46, 41,  7,  1,\n",
      "        34, 45, 38, 57,  4, 56,  1, 58, 53, 11,  0, 23, 32, 22, 16,  9,  1, 34,\n",
      "        42, 49, 49,  5,  1, 20,  1, 43, 46, 51, 46, 56, 45, 42, 41,  1, 50, 62,\n",
      "         1, 40, 46, 55, 40, 49, 42,  7,  1, 20,  1, 41, 52, 51,  4, 57,  1, 53,\n",
      "        46, 40, 48,  1, 58, 53,  1, 38, 51, 62,  1, 49, 46, 43, 42,  1, 55, 42,\n",
      "        38, 41, 46, 51, 44, 56,  7,  0, 19, 12, 25,  9,  1, 31, 45, 42, 55, 42,\n",
      "         1, 46, 56, 51,  4, 57,  1, 42, 51, 52, 58, 44, 45,  1, 49, 46, 43, 42,\n",
      "         1, 52, 51,  1, 57, 45, 46, 56,  1, 46, 40, 42,  1, 40, 58, 39, 42,  1,\n",
      "        57, 52,  1, 43, 46, 49, 49,  1, 38,  1, 56, 53, 38, 40, 42,  1, 40, 55,\n",
      "        58, 46, 56, 42, 55,  7,  1, 31, 45, 42,  1, 56, 42, 51, 56, 52, 55, 56,\n",
      "         1, 38, 55, 42,  1, 53, 49, 38, 40, 42, 41,  7,  1, 20,  4, 50,  1, 44,\n",
      "        52, 46, 51, 44,  1, 39, 38, 40, 48,  7,  0, 23, 32, 22, 16,  9,  1, 29,\n",
      "        46, 44, 45, 57,  7,  1, 20,  4, 49, 49,  1, 56, 42, 42,  1, 62, 52, 58,\n",
      "         1, 56, 45, 52, 55, 57, 49, 62,  7,  1, 31, 45, 42, 55, 42,  4, 56,  1,\n",
      "        38,  1, 50, 42, 57, 42, 52, 55, 46, 57, 42,  1, 57, 45, 38, 57,  1, 45,\n",
      "        46, 57,  1, 57, 45, 42,  1, 44, 55, 52, 58, 51, 41,  1, 51, 42, 38, 55,\n",
      "         1, 45, 42, 55, 42,  7,  1, 20,  1, 60, 38, 51, 57,  1, 57, 52,  1, 40,\n",
      "        45, 42, 40, 48,  1, 46, 57,  1, 52, 58, 57,  7,  1, 20, 57,  1, 60, 52,\n",
      "        51,  4, 57,  1, 57, 38, 48, 42,  1, 49, 52, 51, 44,  7,  0, 23, 32, 22,\n",
      "        16,  9,  1, 19, 42, 62,  5,  1, 56, 57, 42, 38, 41, 62,  1, 44, 46, 55,\n",
      "        49,  7,  1, 34, 45, 38, 57,  4, 56,  1, 57, 45, 42,  1, 50, 38, 57, 57,\n",
      "        42, 55, 11,  1, 36, 52, 58,  1, 56, 50, 42, 49, 49,  1, 56, 52, 50, 42,\n",
      "        57, 45, 46, 51, 44, 11,  0, 23, 32, 22, 16,  9,  1, 12, 38, 38, 55, 44,\n",
      "        45,  2,  0, 19, 12, 25,  9,  1, 14, 45, 42, 60, 46, 42,  2,  0, 19, 12,\n",
      "        25,  9,  1, 12, 49, 49,  1, 55, 46, 44, 45, 57,  5,  1, 41, 52, 51,  4,\n",
      "        57,  1, 49, 52, 56, 42,  1, 62, 52, 58, 55,  1, 57, 42, 50, 53, 42, 55,\n",
      "         7,  1, 20,  4, 49, 49,  1, 40, 52, 50, 42,  1, 55, 46, 44, 45, 57,  1,\n",
      "        39, 38, 40, 48,  1, 38, 51, 41,  1, 44, 46, 59, 42,  1,  1, 62, 52, 58,\n",
      "         1, 38,  1, 45, 38, 51, 41,  7,  0, 29, 20, 16, 16, 22, 12, 25,  9,  1,\n",
      "        30, 52, 49, 52, 11,  0, 19, 12, 25,  9,  1, 25, 52,  1, 56, 46, 44, 51,\n",
      "         1, 52, 43,  1, 49, 46, 43, 42,  1, 52, 58, 57,  1, 57, 45, 42, 55, 42,\n",
      "         5,  1, 18, 42, 51, 42, 55, 38, 49,  7,  1, 31, 45, 42,  1, 56, 42, 51,\n",
      "        56, 52, 55, 56,  1, 38, 55, 42,  1, 46, 51,  1, 53, 49, 38, 40, 42,  7,\n",
      "         1, 36, 52, 58,  4, 49, 49,  1, 48, 51, 52, 60,  1, 46, 43,  1, 38, 51,\n",
      "        62, 57, 45, 46, 51, 44,  1, 40, 52, 50, 42, 56,  1, 38, 55, 52, 58, 51,\n",
      "        41,  7,  0, 29, 20, 16, 16, 22, 12, 25,  9,  1, 14, 52, 50, 50, 38, 51,\n",
      "        41, 42, 55,  1, 30, 48, 62, 60, 38, 49, 48, 42, 55,  1, 55, 42, 53, 52,\n",
      "        55, 57, 42, 41,  1, 46, 51,  1, 62, 42, 57, 11,  0, 19, 12, 25,  9,  1,\n",
      "        25, 52,  7,  1, 19, 42,  4, 56,  1, 40, 45, 42, 40, 48, 46, 51, 44,  1,\n",
      "        52, 58, 57,  1, 38,  1, 50, 42, 57, 42, 52, 55, 46, 57, 42,  1, 57, 45,\n",
      "        38, 57,  1, 45, 46, 57,  1, 51, 42, 38, 55,  1, 45, 46, 50,  7,  0, 29,\n",
      "        20, 16, 16, 22, 12, 25,  9,  1, 34, 46, 57, 45,  1, 38, 49, 49,  1, 57,\n",
      "        45, 42,  1, 50, 42, 57, 42, 52, 55,  1, 38, 40, 57, 46, 59, 46, 57, 62,\n",
      "         1, 46, 51,  1, 57, 45, 46, 56,  1,  1, 56, 62, 56, 57, 42, 50,  5,  1,\n",
      "        46, 57,  4, 56,  1, 44, 52, 46, 51, 44,  1, 57, 52,  1, 39, 42,  1, 41,\n",
      "        46, 43, 43, 46, 40, 58, 49, 57,  1, 57, 52,  1, 56, 53, 52, 57,  1, 38,\n",
      "        53, 53, 55, 52, 38, 40, 45, 46, 51, 44,  1, 56, 45, 46, 53, 56,  7,  0,\n",
      "        19, 12, 25,  9,  1, 18, 42, 51, 42, 55, 38, 49,  5,  1, 20,  4, 59, 42,\n",
      "         1, 44, 52, 57,  1, 57, 52,  1, 49, 42, 38, 59, 42,  7,  1, 20,  1, 40,\n",
      "        38, 51,  4, 57,  1, 56, 57, 38, 62,  1, 38, 51, 62, 50, 52, 55, 42,  7,\n",
      "         0, 29, 20, 16, 16, 22, 12, 25,  9,  1, 20,  4, 50,  1, 56, 52, 55, 55,\n",
      "        62,  1, 57, 52,  1, 45, 42, 38, 55,  1])\n"
     ]
    }
   ],
   "source": [
    "# let's now encode the entire text dataset and store it into a torch.Tensor\n",
    "# we use PyTorch: https://pytorch.org\n",
    "data = torch.tensor(encode(text), dtype=torch.long)\n",
    "print(data.shape, data.dtype)\n",
    "print(data[:1000]) # the 1000 characters we looked at earier will to the GPT look like this"
   ]
  },
  {
   "cell_type": "code",
   "execution_count": 8,
   "metadata": {},
   "outputs": [],
   "source": [
    "# Let's now split up the data into train and validation sets\n",
    "n = int(0.9*len(data)) # first 90% will be train, rest val\n",
    "train_data = data[:n]\n",
    "val_data = data[n:]"
   ]
  },
  {
   "cell_type": "code",
   "execution_count": 9,
   "metadata": {},
   "outputs": [
    {
     "data": {
      "text/plain": [
       "tensor([23, 32, 22, 16,  9,  1, 16, 40, 45])"
      ]
     },
     "execution_count": 9,
     "metadata": {},
     "output_type": "execute_result"
    }
   ],
   "source": [
    "#Split things into smaller chunk\n",
    "block_size = 8\n",
    "train_data[:block_size+1]"
   ]
  },
  {
   "cell_type": "code",
   "execution_count": 10,
   "metadata": {},
   "outputs": [
    {
     "name": "stdout",
     "output_type": "stream",
     "text": [
      "when input is tensor([23]) the target: 32\n",
      "when input is tensor([23, 32]) the target: 22\n",
      "when input is tensor([23, 32, 22]) the target: 16\n",
      "when input is tensor([23, 32, 22, 16]) the target: 9\n",
      "when input is tensor([23, 32, 22, 16,  9]) the target: 1\n",
      "when input is tensor([23, 32, 22, 16,  9,  1]) the target: 16\n",
      "when input is tensor([23, 32, 22, 16,  9,  1, 16]) the target: 40\n",
      "when input is tensor([23, 32, 22, 16,  9,  1, 16, 40]) the target: 45\n"
     ]
    }
   ],
   "source": [
    "x = train_data[:block_size]\n",
    "y = train_data[1:block_size+1] #next block size (target of the input)\n",
    "for t in range(block_size):\n",
    "    context = x[:t+1]\n",
    "    target = y[t]\n",
    "    print(f\"when input is {context} the target: {target}\")"
   ]
  },
  {
   "cell_type": "code",
   "execution_count": 11,
   "metadata": {},
   "outputs": [
    {
     "name": "stdout",
     "output_type": "stream",
     "text": [
      "inputs:\n",
      "torch.Size([4, 8])\n",
      "tensor([[45, 46, 51, 44,  1, 51, 52, 57],\n",
      "        [51,  4, 57,  1, 39, 42,  1, 52],\n",
      "        [41, 52,  1, 50, 62,  1, 47, 52],\n",
      "        [ 5,  1, 46, 43,  1, 62, 52, 58]])\n",
      "targets:\n",
      "torch.Size([4, 8])\n",
      "tensor([[46, 51, 44,  1, 51, 52, 57,  1],\n",
      "        [ 4, 57,  1, 39, 42,  1, 52, 51],\n",
      "        [52,  1, 50, 62,  1, 47, 52, 39],\n",
      "        [ 1, 46, 43,  1, 62, 52, 58,  4]])\n",
      "----\n",
      "when input is [45] the target: 46\n",
      "when input is [45, 46] the target: 51\n",
      "when input is [45, 46, 51] the target: 44\n",
      "when input is [45, 46, 51, 44] the target: 1\n",
      "when input is [45, 46, 51, 44, 1] the target: 51\n",
      "when input is [45, 46, 51, 44, 1, 51] the target: 52\n",
      "when input is [45, 46, 51, 44, 1, 51, 52] the target: 57\n",
      "when input is [45, 46, 51, 44, 1, 51, 52, 57] the target: 1\n",
      "when input is [51] the target: 4\n",
      "when input is [51, 4] the target: 57\n",
      "when input is [51, 4, 57] the target: 1\n",
      "when input is [51, 4, 57, 1] the target: 39\n",
      "when input is [51, 4, 57, 1, 39] the target: 42\n",
      "when input is [51, 4, 57, 1, 39, 42] the target: 1\n",
      "when input is [51, 4, 57, 1, 39, 42, 1] the target: 52\n",
      "when input is [51, 4, 57, 1, 39, 42, 1, 52] the target: 51\n",
      "when input is [41] the target: 52\n",
      "when input is [41, 52] the target: 1\n",
      "when input is [41, 52, 1] the target: 50\n",
      "when input is [41, 52, 1, 50] the target: 62\n",
      "when input is [41, 52, 1, 50, 62] the target: 1\n",
      "when input is [41, 52, 1, 50, 62, 1] the target: 47\n",
      "when input is [41, 52, 1, 50, 62, 1, 47] the target: 52\n",
      "when input is [41, 52, 1, 50, 62, 1, 47, 52] the target: 39\n",
      "when input is [5] the target: 1\n",
      "when input is [5, 1] the target: 46\n",
      "when input is [5, 1, 46] the target: 43\n",
      "when input is [5, 1, 46, 43] the target: 1\n",
      "when input is [5, 1, 46, 43, 1] the target: 62\n",
      "when input is [5, 1, 46, 43, 1, 62] the target: 52\n",
      "when input is [5, 1, 46, 43, 1, 62, 52] the target: 58\n",
      "when input is [5, 1, 46, 43, 1, 62, 52, 58] the target: 4\n"
     ]
    }
   ],
   "source": [
    "torch.manual_seed(1337)\n",
    "batch_size = 4 # how many independent sequences will we process in parallel?\n",
    "block_size = 8 # what is the maximum context length for predictions?\n",
    "\n",
    "def get_batch(split):\n",
    "    # generate a small batch of data of inputs x and targets y\n",
    "    data = train_data if split == 'train' else val_data\n",
    "    ix = torch.randint(len(data) - block_size, (batch_size,))\n",
    "    x = torch.stack([data[i:i+block_size] for i in ix])\n",
    "    y = torch.stack([data[i+1:i+block_size+1] for i in ix])\n",
    "    return x, y\n",
    "\n",
    "xb, yb = get_batch('train')\n",
    "print('inputs:')\n",
    "print(xb.shape)\n",
    "print(xb)\n",
    "print('targets:')\n",
    "print(yb.shape)\n",
    "print(yb)\n",
    "\n",
    "print('----')\n",
    "\n",
    "for b in range(batch_size): # batch dimension\n",
    "    for t in range(block_size): # time dimension\n",
    "        context = xb[b, :t+1]\n",
    "        target = yb[b,t]\n",
    "        print(f\"when input is {context.tolist()} the target: {target}\")"
   ]
  },
  {
   "cell_type": "code",
   "execution_count": 12,
   "metadata": {},
   "outputs": [
    {
     "name": "stdout",
     "output_type": "stream",
     "text": [
      "tensor([[45, 46, 51, 44,  1, 51, 52, 57],\n",
      "        [51,  4, 57,  1, 39, 42,  1, 52],\n",
      "        [41, 52,  1, 50, 62,  1, 47, 52],\n",
      "        [ 5,  1, 46, 43,  1, 62, 52, 58]])\n"
     ]
    }
   ],
   "source": [
    "print(xb) # our input to the transformer"
   ]
  },
  {
   "cell_type": "code",
   "execution_count": 13,
   "metadata": {},
   "outputs": [
    {
     "name": "stdout",
     "output_type": "stream",
     "text": [
      "torch.Size([32, 64])\n",
      "tensor(4.6527, grad_fn=<NllLossBackward0>)\n",
      "\n",
      "-,!FHAaDUCdiliCcryulI,.ZoODux FS,tvSaD?2R?;gMt\n",
      "-Czh'?Hal.JL,Zbwi?MvkqYBjZ!dmgBXDkbdS;QFbcR!JS:sXWV'-\n"
     ]
    }
   ],
   "source": [
    "#Baseline model\n",
    "import torch\n",
    "import torch.nn as nn\n",
    "from torch.nn import functional as F\n",
    "torch.manual_seed(1337)\n",
    "\n",
    "class BigramLanguageModel(nn.Module):\n",
    "\n",
    "    def __init__(self, vocab_size):\n",
    "        super().__init__()\n",
    "        # each token directly reads off the logits for the next token from a lookup table\n",
    "        self.token_embedding_table = nn.Embedding(vocab_size, vocab_size)\n",
    "\n",
    "    def forward(self, idx, targets=None):\n",
    "\n",
    "        # idx and targets are both (B,T) tensor of integers\n",
    "        logits = self.token_embedding_table(idx) # (B,T,C)\n",
    "\n",
    "        if targets is None:\n",
    "            loss = None\n",
    "        else:\n",
    "            B, T, C = logits.shape\n",
    "            logits = logits.view(B*T, C)\n",
    "            targets = targets.view(B*T)\n",
    "            loss = F.cross_entropy(logits, targets)\n",
    "\n",
    "        return logits, loss\n",
    "\n",
    "    def generate(self, idx, max_new_tokens):\n",
    "        # idx is (B, T) array of indices in the current context\n",
    "        for _ in range(max_new_tokens):\n",
    "            # get the predictions\n",
    "            logits, loss = self(idx)\n",
    "            # focus only on the last time step\n",
    "            logits = logits[:, -1, :] # becomes (B, C)\n",
    "            # apply softmax to get probabilities\n",
    "            probs = F.softmax(logits, dim=-1) # (B, C)\n",
    "            # sample from the distribution\n",
    "            idx_next = torch.multinomial(probs, num_samples=1) # (B, 1)\n",
    "            # append sampled index to the running sequence\n",
    "            idx = torch.cat((idx, idx_next), dim=1) # (B, T+1)\n",
    "        return idx\n",
    "\n",
    "m = BigramLanguageModel(vocab_size)\n",
    "logits, loss = m(xb, yb)\n",
    "print(logits.shape)\n",
    "print(loss)\n",
    "\n",
    "print(decode(m.generate(idx = torch.zeros((1, 1), dtype=torch.long), max_new_tokens=100)[0].tolist()))\n",
    "\n",
    "#Note that the output doesn't make sense because at the current point, we feed all but it is only look at the last piece (-1) to predict the next char instead of the whole history"
   ]
  },
  {
   "cell_type": "code",
   "execution_count": 14,
   "metadata": {},
   "outputs": [],
   "source": [
    "# create a PyTorch optimizer\n",
    "optimizer = torch.optim.AdamW(m.parameters(), lr=1e-3)"
   ]
  },
  {
   "cell_type": "code",
   "execution_count": 22,
   "metadata": {},
   "outputs": [
    {
     "name": "stdout",
     "output_type": "stream",
     "text": [
      "2.4706151485443115\n"
     ]
    }
   ],
   "source": [
    "batch_size = 32\n",
    "for steps in range(10000): # increase number of steps for good results...\n",
    "\n",
    "    # sample a batch of data\n",
    "    xb, yb = get_batch('train')\n",
    "\n",
    "    # evaluate the loss\n",
    "    logits, loss = m(xb, yb)\n",
    "    optimizer.zero_grad(set_to_none=True)\n",
    "    loss.backward()\n",
    "    optimizer.step()\n",
    "\n",
    "print(loss.item())\n"
   ]
  },
  {
   "cell_type": "code",
   "execution_count": 28,
   "metadata": {},
   "outputs": [],
   "source": [
    "import numpy as np\n",
    "\n",
    "A = np.array([[1, 2], [3, 4]])\n",
    "B = np.array([[5, 6], [7, 8]])\n",
    "\n",
    "# Using the @ operator for matrix multiplication\n",
    "C = A @ B"
   ]
  },
  {
   "cell_type": "code",
   "execution_count": 29,
   "metadata": {},
   "outputs": [
    {
     "data": {
      "text/plain": [
       "array([[19, 22],\n",
       "       [43, 50]])"
      ]
     },
     "execution_count": 29,
     "metadata": {},
     "output_type": "execute_result"
    }
   ],
   "source": [
    "C\n"
   ]
  },
  {
   "cell_type": "code",
   "execution_count": 23,
   "metadata": {},
   "outputs": [
    {
     "name": "stdout",
     "output_type": "stream",
     "text": [
      "\n",
      "RCKEI hour\n",
      "Th htas.IANorthimar wois.\n",
      "VE: sury, alodr. foo Ro, ad we teltealtretor mousie Yougoifagater gorire, Sip  Sct..\n",
      "LE: Calid tos Gere Theresnd.\n",
      "OFFou's tthel, Thindit spepor IADReeme lle! yonou, othayonth  Ohe f har lld tis HA rodsanoulewhint FFIOhe grto, ICO: rods  t.\n",
      "LEREERind y atholontllle YOfind s cer..\n",
      "HAne.\n",
      "Ithedin'tilt t lour. S: Coorfie t Bun..\n",
      "LA: ithis, ldilay Wheewes, BETHANo s ADEEPu CEREIA: o.\n",
      "HA: it ak. thnere  Ssict, THA: Can, We se.\n",
      "LEEIO: t'side d t I afag fis.!\n",
      "DE: Ye d\n"
     ]
    }
   ],
   "source": [
    "print(decode(m.generate(idx = torch.zeros((1, 1), dtype=torch.long), max_new_tokens=500)[0].tolist()))"
   ]
  },
  {
   "cell_type": "markdown",
   "metadata": {},
   "source": [
    "### Milestone 3: The mathematical trick in self-attention"
   ]
  },
  {
   "cell_type": "code",
   "execution_count": 26,
   "metadata": {},
   "outputs": [
    {
     "name": "stdout",
     "output_type": "stream",
     "text": [
      "a=\n",
      "tensor([[1.0000, 0.0000, 0.0000],\n",
      "        [0.5000, 0.5000, 0.0000],\n",
      "        [0.3333, 0.3333, 0.3333]])\n",
      "--\n",
      "b=\n",
      "tensor([[2., 7.],\n",
      "        [6., 4.],\n",
      "        [6., 5.]])\n",
      "--\n",
      "c=\n",
      "tensor([[2.0000, 7.0000],\n",
      "        [4.0000, 5.5000],\n",
      "        [4.6667, 5.3333]])\n"
     ]
    }
   ],
   "source": [
    "# toy example illustrating how matrix multiplication can be used for a \"weighted aggregation\"\n",
    "torch.manual_seed(42)\n",
    "a = torch.tril(torch.ones(3, 3))\n",
    "a = a / torch.sum(a, 1, keepdim=True)\n",
    "b = torch.randint(0,10,(3,2)).float()\n",
    "c = a @ b\n",
    "print('a=')\n",
    "print(a)\n",
    "print('--')\n",
    "print('b=')\n",
    "print(b)\n",
    "print('--')\n",
    "print('c=')\n",
    "print(c)"
   ]
  },
  {
   "cell_type": "code",
   "execution_count": 24,
   "metadata": {},
   "outputs": [
    {
     "data": {
      "text/plain": [
       "torch.Size([4, 8, 2])"
      ]
     },
     "execution_count": 24,
     "metadata": {},
     "output_type": "execute_result"
    }
   ],
   "source": [
    "# consider the following toy example:\n",
    "\n",
    "torch.manual_seed(1337)\n",
    "B,T,C = 4,8,2 # batch, time, channels\n",
    "x = torch.randn(B,T,C)\n",
    "x.shape"
   ]
  },
  {
   "cell_type": "code",
   "execution_count": 25,
   "metadata": {},
   "outputs": [],
   "source": [
    "# We want x[b,t] = mean_{i<=t} x[b,i]\n",
    "xbow = torch.zeros((B,T,C))\n",
    "for b in range(B):\n",
    "    for t in range(T):\n",
    "        xprev = x[b,:t+1] # (t,C)\n",
    "        xbow[b,t] = torch.mean(xprev, 0)\n"
   ]
  },
  {
   "cell_type": "code",
   "execution_count": 30,
   "metadata": {},
   "outputs": [
    {
     "data": {
      "text/plain": [
       "True"
      ]
     },
     "execution_count": 30,
     "metadata": {},
     "output_type": "execute_result"
    }
   ],
   "source": [
    "# version 2: using matrix multiply for a weighted aggregation\n",
    "wei = torch.tril(torch.ones(T, T))\n",
    "wei = wei / wei.sum(1, keepdim=True)\n",
    "xbow2 = wei @ x # (B, T, T) @ (B, T, C) ----> (B, T, C)\n",
    "torch.allclose(xbow, xbow2)"
   ]
  },
  {
   "cell_type": "code",
   "execution_count": 31,
   "metadata": {},
   "outputs": [
    {
     "data": {
      "text/plain": [
       "True"
      ]
     },
     "execution_count": 31,
     "metadata": {},
     "output_type": "execute_result"
    }
   ],
   "source": [
    "# version 3: use Softmax\n",
    "tril = torch.tril(torch.ones(T, T))\n",
    "wei = torch.zeros((T,T))\n",
    "wei = wei.masked_fill(tril == 0, float('-inf'))\n",
    "wei = F.softmax(wei, dim=-1)\n",
    "xbow3 = wei @ x\n",
    "torch.allclose(xbow, xbow3)\n"
   ]
  },
  {
   "cell_type": "code",
   "execution_count": 34,
   "metadata": {},
   "outputs": [
    {
     "data": {
      "text/plain": [
       "torch.Size([4, 8, 16])"
      ]
     },
     "execution_count": 34,
     "metadata": {},
     "output_type": "execute_result"
    }
   ],
   "source": [
    "# version 4: self-attention! every single nodes will emit 2 vectors: key & query, query vector what we look for, key: what we contain, weight = query @ key\n",
    "torch.manual_seed(1337)\n",
    "B,T,C = 4,8,32 # batch, time, channels\n",
    "x = torch.randn(B,T,C)\n",
    "\n",
    "# let's see a single Head perform self-attention\n",
    "head_size = 16\n",
    "key = nn.Linear(C, head_size, bias=False)\n",
    "query = nn.Linear(C, head_size, bias=False)\n",
    "value = nn.Linear(C, head_size, bias=False)\n",
    "k = key(x)   # (B, T, 16)\n",
    "q = query(x) # (B, T, 16)\n",
    "wei =  q @ k.transpose(-2, -1) # (B, T, 16) @ (B, 16, T) ---> (B, T, T)\n",
    "\n",
    "tril = torch.tril(torch.ones(T, T))\n",
    "#wei = torch.zeros((T,T))\n",
    "wei = wei.masked_fill(tril == 0, float('-inf'))\n",
    "wei = F.softmax(wei, dim=-1)\n",
    "\n",
    "v = value(x)\n",
    "out = wei @ v\n",
    "#out = wei @ x\n",
    "\n",
    "out.shape"
   ]
  },
  {
   "cell_type": "code",
   "execution_count": 35,
   "metadata": {},
   "outputs": [
    {
     "data": {
      "text/plain": [
       "tensor([[1.0000, 0.0000, 0.0000, 0.0000, 0.0000, 0.0000, 0.0000, 0.0000],\n",
       "        [0.1574, 0.8426, 0.0000, 0.0000, 0.0000, 0.0000, 0.0000, 0.0000],\n",
       "        [0.2088, 0.1646, 0.6266, 0.0000, 0.0000, 0.0000, 0.0000, 0.0000],\n",
       "        [0.5792, 0.1187, 0.1889, 0.1131, 0.0000, 0.0000, 0.0000, 0.0000],\n",
       "        [0.0294, 0.1052, 0.0469, 0.0276, 0.7909, 0.0000, 0.0000, 0.0000],\n",
       "        [0.0176, 0.2689, 0.0215, 0.0089, 0.6812, 0.0019, 0.0000, 0.0000],\n",
       "        [0.1691, 0.4066, 0.0438, 0.0416, 0.1048, 0.2012, 0.0329, 0.0000],\n",
       "        [0.0210, 0.0843, 0.0555, 0.2297, 0.0573, 0.0709, 0.2423, 0.2391]],\n",
       "       grad_fn=<SelectBackward0>)"
      ]
     },
     "execution_count": 35,
     "metadata": {},
     "output_type": "execute_result"
    }
   ],
   "source": [
    "wei[0]"
   ]
  },
  {
   "cell_type": "markdown",
   "metadata": {},
   "source": [
    "Notes:\n",
    "- Attention is a **communication mechanism**. Can be seen as nodes in a directed graph looking at each other and aggregating information with a weighted sum from all nodes that point to them, with data-dependent weights.\n",
    "- There is no notion of space. Attention simply acts over a set of vectors. This is why we need to positionally encode tokens.\n",
    "- Each example across batch dimension is of course processed completely independently and never \"talk\" to each other\n",
    "- In an \"encoder\" attention block just delete the single line that does masking with `tril`, allowing all tokens to communicate. This block here is called a \"decoder\" attention block because it has triangular masking, and is usually used in autoregressive settings, like language modeling.\n",
    "- \"self-attention\" just means that the keys and values are produced from the same source as queries. In \"cross-attention\", the queries still get produced from x, but the keys and values come from some other, external source (e.g. an encoder module)\n",
    "- \"Scaled\" attention additional divides `wei` by 1/sqrt(head_size). This makes it so when input Q,K are unit variance, wei will be unit variance too and Softmax will stay diffuse and not saturate too much. Illustration below"
   ]
  },
  {
   "cell_type": "code",
   "execution_count": 36,
   "metadata": {},
   "outputs": [],
   "source": [
    "k = torch.randn(B,T,head_size)\n",
    "q = torch.randn(B,T,head_size)\n",
    "wei = q @ k.transpose(-2, -1) * head_size**-0.5"
   ]
  },
  {
   "cell_type": "code",
   "execution_count": 37,
   "metadata": {},
   "outputs": [
    {
     "data": {
      "text/plain": [
       "tensor(1.0449)"
      ]
     },
     "execution_count": 37,
     "metadata": {},
     "output_type": "execute_result"
    }
   ],
   "source": [
    "k.var()"
   ]
  },
  {
   "cell_type": "code",
   "execution_count": 38,
   "metadata": {},
   "outputs": [
    {
     "data": {
      "text/plain": [
       "tensor(1.0700)"
      ]
     },
     "execution_count": 38,
     "metadata": {},
     "output_type": "execute_result"
    }
   ],
   "source": [
    "q.var()"
   ]
  },
  {
   "cell_type": "code",
   "execution_count": 39,
   "metadata": {},
   "outputs": [
    {
     "data": {
      "text/plain": [
       "tensor(1.0918)"
      ]
     },
     "execution_count": 39,
     "metadata": {},
     "output_type": "execute_result"
    }
   ],
   "source": [
    "wei.var()"
   ]
  },
  {
   "cell_type": "code",
   "execution_count": null,
   "metadata": {},
   "outputs": [],
   "source": []
  }
 ],
 "metadata": {
  "kernelspec": {
   "display_name": ".markvenv",
   "language": "python",
   "name": "python3"
  },
  "language_info": {
   "codemirror_mode": {
    "name": "ipython",
    "version": 3
   },
   "file_extension": ".py",
   "mimetype": "text/x-python",
   "name": "python",
   "nbconvert_exporter": "python",
   "pygments_lexer": "ipython3",
   "version": "3.12.4"
  }
 },
 "nbformat": 4,
 "nbformat_minor": 2
}
